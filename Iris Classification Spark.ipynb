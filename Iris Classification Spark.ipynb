{
 "cells": [
  {
   "cell_type": "code",
   "execution_count": 1,
   "metadata": {
    "collapsed": true
   },
   "outputs": [],
   "source": [
    "import pandas as pd\n",
    "import numpy as np\n",
    "import scipy.interpolate\n",
    "import matplotlib.pyplot as plt\n",
    "%matplotlib inline"
   ]
  },
  {
   "cell_type": "markdown",
   "metadata": {},
   "source": [
    "** This is the iris dataset classification example.The dataset is downloaded from https://archive.ics.uci.edu/ml/machine-learning-databases/iris/iris.data. Each sample has 4 features (sepal length, sepal width, petal length, petal width) and is classified into one of the 3 classes (iris-setosa, iris-versicolor,iris-virginica). Decision tree, random forest and logistic regression modules from the spark.ml library are used for classification. **"
   ]
  },
  {
   "cell_type": "code",
   "execution_count": 2,
   "metadata": {},
   "outputs": [
    {
     "data": {
      "text/plain": [
       "[Row(_c0=5.1, _c1=3.5, _c2=1.4, _c3=0.2, _c4='Iris-setosa'),\n",
       " Row(_c0=4.9, _c1=3.0, _c2=1.4, _c3=0.2, _c4='Iris-setosa'),\n",
       " Row(_c0=4.7, _c1=3.2, _c2=1.3, _c3=0.2, _c4='Iris-setosa'),\n",
       " Row(_c0=4.6, _c1=3.1, _c2=1.5, _c3=0.2, _c4='Iris-setosa'),\n",
       " Row(_c0=5.0, _c1=3.6, _c2=1.4, _c3=0.2, _c4='Iris-setosa')]"
      ]
     },
     "execution_count": 2,
     "metadata": {},
     "output_type": "execute_result"
    }
   ],
   "source": [
    "import ibmos2spark\n",
    "\n",
    "# @hidden_cell\n",
    "credentials = {\n",
    "    'auth_url': 'https://identity.open.softlayer.com',\n",
    "    'project_id': '5255011bbec640b5b65887c30a697775',\n",
    "    'region': 'dallas',\n",
    "    'user_id': 'd5a715617ba24fb28fa27e6c37016cd5',\n",
    "    'username': 'member_961fb9fb8cbcdb9c05c7f761d07710754f04e371',\n",
    "    'password': 'I*7eN0xng.ZgZvsK'\n",
    "}\n",
    "\n",
    "configuration_name = 'os_2324dd88d6d2434d8e40abae94b1b978_configs'\n",
    "bmos = ibmos2spark.bluemix(sc, credentials, configuration_name)\n",
    "\n",
    "from pyspark.sql import SparkSession\n",
    "spark = SparkSession.builder.getOrCreate()\n",
    "df_iris = spark.read\\\n",
    "  .format('org.apache.spark.sql.execution.datasources.csv.CSVFileFormat')\\\n",
    "  .option('header', 'false')\\\n",
    "  .option('inferSchema','true')\\\n",
    "  .load(bmos.url('DefaultProjecthongsang1976gmailcom', 'iris.data'))\n",
    "df_iris.take(5)"
   ]
  },
  {
   "cell_type": "markdown",
   "metadata": {},
   "source": [
    "** Assign proper column names to the dataframe **"
   ]
  },
  {
   "cell_type": "code",
   "execution_count": 3,
   "metadata": {},
   "outputs": [
    {
     "name": "stdout",
     "output_type": "stream",
     "text": [
      "root\n",
      " |-- sepal_length: double (nullable = true)\n",
      " |-- sepal_width: double (nullable = true)\n",
      " |-- petal_length: double (nullable = true)\n",
      " |-- petal_width: double (nullable = true)\n",
      " |-- iris_class: string (nullable = true)\n",
      "\n",
      "+------------+-----------+------------+-----------+-----------+\n",
      "|sepal_length|sepal_width|petal_length|petal_width| iris_class|\n",
      "+------------+-----------+------------+-----------+-----------+\n",
      "|         5.1|        3.5|         1.4|        0.2|Iris-setosa|\n",
      "|         4.9|        3.0|         1.4|        0.2|Iris-setosa|\n",
      "|         4.7|        3.2|         1.3|        0.2|Iris-setosa|\n",
      "|         4.6|        3.1|         1.5|        0.2|Iris-setosa|\n",
      "|         5.0|        3.6|         1.4|        0.2|Iris-setosa|\n",
      "+------------+-----------+------------+-----------+-----------+\n",
      "only showing top 5 rows\n",
      "\n"
     ]
    }
   ],
   "source": [
    "df_iris = df_iris.withColumnRenamed('_c0', 'sepal_length')\\\n",
    "                 .withColumnRenamed('_c1', 'sepal_width')\\\n",
    "                 .withColumnRenamed('_c2', 'petal_length')\\\n",
    "                 .withColumnRenamed('_c3', 'petal_width')\\\n",
    "                 .withColumnRenamed('_c4', 'iris_class')\n",
    "df_iris.printSchema()\n",
    "df_iris.show(5)"
   ]
  },
  {
   "cell_type": "markdown",
   "metadata": {},
   "source": [
    "** Convert iris-class strings into numbers **"
   ]
  },
  {
   "cell_type": "code",
   "execution_count": 4,
   "metadata": {
    "collapsed": true
   },
   "outputs": [],
   "source": [
    "from pyspark.ml.feature import StringIndexer"
   ]
  },
  {
   "cell_type": "code",
   "execution_count": 5,
   "metadata": {},
   "outputs": [
    {
     "name": "stdout",
     "output_type": "stream",
     "text": [
      "+------------+-----------+------------+-----------+-----------+-----+\n",
      "|sepal_length|sepal_width|petal_length|petal_width| iris_class|label|\n",
      "+------------+-----------+------------+-----------+-----------+-----+\n",
      "|         5.1|        3.5|         1.4|        0.2|Iris-setosa|  0.0|\n",
      "|         4.9|        3.0|         1.4|        0.2|Iris-setosa|  0.0|\n",
      "|         4.7|        3.2|         1.3|        0.2|Iris-setosa|  0.0|\n",
      "|         4.6|        3.1|         1.5|        0.2|Iris-setosa|  0.0|\n",
      "|         5.0|        3.6|         1.4|        0.2|Iris-setosa|  0.0|\n",
      "+------------+-----------+------------+-----------+-----------+-----+\n",
      "only showing top 5 rows\n",
      "\n"
     ]
    }
   ],
   "source": [
    "indexer = StringIndexer(inputCol='iris_class',outputCol='label')\n",
    "df = indexer.fit(df_iris).transform(df_iris)\n",
    "df.show(5)"
   ]
  },
  {
   "cell_type": "code",
   "execution_count": 6,
   "metadata": {
    "collapsed": true
   },
   "outputs": [],
   "source": [
    "from pyspark.ml.feature import VectorAssembler"
   ]
  },
  {
   "cell_type": "code",
   "execution_count": 7,
   "metadata": {},
   "outputs": [
    {
     "name": "stdout",
     "output_type": "stream",
     "text": [
      "+------------+-----------+------------+-----------+-----------+-----+-----------------+\n",
      "|sepal_length|sepal_width|petal_length|petal_width| iris_class|label|         features|\n",
      "+------------+-----------+------------+-----------+-----------+-----+-----------------+\n",
      "|         5.1|        3.5|         1.4|        0.2|Iris-setosa|  0.0|[5.1,5.1,1.4,0.2]|\n",
      "|         4.9|        3.0|         1.4|        0.2|Iris-setosa|  0.0|[4.9,4.9,1.4,0.2]|\n",
      "|         4.7|        3.2|         1.3|        0.2|Iris-setosa|  0.0|[4.7,4.7,1.3,0.2]|\n",
      "|         4.6|        3.1|         1.5|        0.2|Iris-setosa|  0.0|[4.6,4.6,1.5,0.2]|\n",
      "|         5.0|        3.6|         1.4|        0.2|Iris-setosa|  0.0|[5.0,5.0,1.4,0.2]|\n",
      "+------------+-----------+------------+-----------+-----------+-----+-----------------+\n",
      "only showing top 5 rows\n",
      "\n"
     ]
    }
   ],
   "source": [
    "assembler = VectorAssembler(inputCols=['sepal_length','sepal_length','petal_length','petal_width'],\n",
    "                           outputCol='features')\n",
    "df_assembled = assembler.transform(df)\n",
    "df_assembled.show(5)"
   ]
  },
  {
   "cell_type": "code",
   "execution_count": 8,
   "metadata": {},
   "outputs": [
    {
     "name": "stdout",
     "output_type": "stream",
     "text": [
      "+-----------------+-----+\n",
      "|         features|label|\n",
      "+-----------------+-----+\n",
      "|[5.1,5.1,1.4,0.2]|  0.0|\n",
      "|[4.9,4.9,1.4,0.2]|  0.0|\n",
      "|[4.7,4.7,1.3,0.2]|  0.0|\n",
      "|[4.6,4.6,1.5,0.2]|  0.0|\n",
      "|[5.0,5.0,1.4,0.2]|  0.0|\n",
      "+-----------------+-----+\n",
      "only showing top 5 rows\n",
      "\n"
     ]
    }
   ],
   "source": [
    "df_final = df_assembled.select('features','label')\n",
    "df_final.show(5)"
   ]
  },
  {
   "cell_type": "markdown",
   "metadata": {},
   "source": [
    "** Split data into training set and test set at the ratio of 0.7:0.3 **"
   ]
  },
  {
   "cell_type": "code",
   "execution_count": 9,
   "metadata": {},
   "outputs": [
    {
     "name": "stdout",
     "output_type": "stream",
     "text": [
      "Size of training set: 106\n",
      "Size of test set: 44\n"
     ]
    }
   ],
   "source": [
    "#train_data,test_data = df_final.randomSplit([0.7,0.3], seed=1)\n",
    "train_data,test_data = df_assembled.randomSplit([0.7,0.3], seed=1)\n",
    "print('Size of training set: ' + str(train_data.count()))\n",
    "print('Size of test set: ' + str(test_data.count()))"
   ]
  },
  {
   "cell_type": "code",
   "execution_count": 10,
   "metadata": {
    "collapsed": true
   },
   "outputs": [],
   "source": [
    "from pyspark.ml.classification import (RandomForestClassifier,\n",
    "                                       DecisionTreeClassifier,LogisticRegression)"
   ]
  },
  {
   "cell_type": "code",
   "execution_count": 11,
   "metadata": {
    "collapsed": true
   },
   "outputs": [],
   "source": [
    "dtc = DecisionTreeClassifier(labelCol='label',featuresCol='features')\n",
    "rfc = RandomForestClassifier(labelCol='label',featuresCol='features')\n",
    "lgr = LogisticRegression(labelCol='label',featuresCol='features')"
   ]
  },
  {
   "cell_type": "code",
   "execution_count": 12,
   "metadata": {},
   "outputs": [],
   "source": [
    "dtc_model = dtc.fit(train_data)\n",
    "rfc_model = rfc.fit(train_data)\n",
    "lgr_model = lgr.fit(train_data)"
   ]
  },
  {
   "cell_type": "code",
   "execution_count": 13,
   "metadata": {
    "collapsed": true
   },
   "outputs": [],
   "source": [
    "dtc_predictions = dtc_model.transform(test_data)\n",
    "rfc_predictions = rfc_model.transform(test_data)\n",
    "lgr_predictions = lgr_model.transform(test_data)"
   ]
  },
  {
   "cell_type": "code",
   "execution_count": 14,
   "metadata": {},
   "outputs": [
    {
     "name": "stdout",
     "output_type": "stream",
     "text": [
      "+------------+-----------+------------+-----------+---------------+-----+-----------------+--------------+-------------+----------+\n",
      "|sepal_length|sepal_width|petal_length|petal_width|     iris_class|label|         features| rawPrediction|  probability|prediction|\n",
      "+------------+-----------+------------+-----------+---------------+-----+-----------------+--------------+-------------+----------+\n",
      "|         4.5|        2.3|         1.3|        0.3|    Iris-setosa|  0.0|[4.5,4.5,1.3,0.3]|[37.0,0.0,0.0]|[1.0,0.0,0.0]|       0.0|\n",
      "|         4.7|        3.2|         1.6|        0.2|    Iris-setosa|  0.0|[4.7,4.7,1.6,0.2]|[37.0,0.0,0.0]|[1.0,0.0,0.0]|       0.0|\n",
      "|         4.9|        2.4|         3.3|        1.0|Iris-versicolor|  1.0|[4.9,4.9,3.3,1.0]|[0.0,35.0,0.0]|[0.0,1.0,0.0]|       1.0|\n",
      "|         4.9|        3.0|         1.4|        0.2|    Iris-setosa|  0.0|[4.9,4.9,1.4,0.2]|[37.0,0.0,0.0]|[1.0,0.0,0.0]|       0.0|\n",
      "|         4.9|        3.1|         1.5|        0.1|    Iris-setosa|  0.0|[4.9,4.9,1.5,0.1]|[37.0,0.0,0.0]|[1.0,0.0,0.0]|       0.0|\n",
      "+------------+-----------+------------+-----------+---------------+-----+-----------------+--------------+-------------+----------+\n",
      "only showing top 5 rows\n",
      "\n",
      "+------------+-----------+------------+-----------+---------------+-----+-----------------+--------------+-------------+----------+\n",
      "|sepal_length|sepal_width|petal_length|petal_width|     iris_class|label|         features| rawPrediction|  probability|prediction|\n",
      "+------------+-----------+------------+-----------+---------------+-----+-----------------+--------------+-------------+----------+\n",
      "|         4.5|        2.3|         1.3|        0.3|    Iris-setosa|  0.0|[4.5,4.5,1.3,0.3]|[20.0,0.0,0.0]|[1.0,0.0,0.0]|       0.0|\n",
      "|         4.7|        3.2|         1.6|        0.2|    Iris-setosa|  0.0|[4.7,4.7,1.6,0.2]|[20.0,0.0,0.0]|[1.0,0.0,0.0]|       0.0|\n",
      "|         4.9|        2.4|         3.3|        1.0|Iris-versicolor|  1.0|[4.9,4.9,3.3,1.0]|[0.0,18.0,2.0]|[0.0,0.9,0.1]|       1.0|\n",
      "|         4.9|        3.0|         1.4|        0.2|    Iris-setosa|  0.0|[4.9,4.9,1.4,0.2]|[20.0,0.0,0.0]|[1.0,0.0,0.0]|       0.0|\n",
      "|         4.9|        3.1|         1.5|        0.1|    Iris-setosa|  0.0|[4.9,4.9,1.5,0.1]|[20.0,0.0,0.0]|[1.0,0.0,0.0]|       0.0|\n",
      "+------------+-----------+------------+-----------+---------------+-----+-----------------+--------------+-------------+----------+\n",
      "only showing top 5 rows\n",
      "\n",
      "+------------+-----------+------------+-----------+---------------+-----+-----------------+--------------------+--------------------+----------+\n",
      "|sepal_length|sepal_width|petal_length|petal_width|     iris_class|label|         features|       rawPrediction|         probability|prediction|\n",
      "+------------+-----------+------------+-----------+---------------+-----+-----------------+--------------------+--------------------+----------+\n",
      "|         4.5|        2.3|         1.3|        0.3|    Iris-setosa|  0.0|[4.5,4.5,1.3,0.3]|[24.0613354385363...|[0.99999999370457...|       0.0|\n",
      "|         4.7|        3.2|         1.6|        0.2|    Iris-setosa|  0.0|[4.7,4.7,1.6,0.2]|[25.2705576136490...|[0.99999999920253...|       0.0|\n",
      "|         4.9|        2.4|         3.3|        1.0|Iris-versicolor|  1.0|[4.9,4.9,3.3,1.0]|[-8.5600070556706...|[1.97425201869005...|       1.0|\n",
      "|         4.9|        3.0|         1.4|        0.2|    Iris-setosa|  0.0|[4.9,4.9,1.4,0.2]|[29.0693521620856...|[0.99999999999252...|       0.0|\n",
      "|         4.9|        3.1|         1.5|        0.1|    Iris-setosa|  0.0|[4.9,4.9,1.5,0.1]|[30.4354366161751...|[0.99999999999888...|       0.0|\n",
      "+------------+-----------+------------+-----------+---------------+-----+-----------------+--------------------+--------------------+----------+\n",
      "only showing top 5 rows\n",
      "\n"
     ]
    }
   ],
   "source": [
    "dtc_predictions.show(5)\n",
    "rfc_predictions.show(5)\n",
    "lgr_predictions.show(5)"
   ]
  },
  {
   "cell_type": "code",
   "execution_count": 15,
   "metadata": {
    "collapsed": true
   },
   "outputs": [],
   "source": [
    "from pyspark.ml.evaluation import MulticlassClassificationEvaluator"
   ]
  },
  {
   "cell_type": "code",
   "execution_count": 16,
   "metadata": {
    "collapsed": true
   },
   "outputs": [],
   "source": [
    "acc_evaluator = MulticlassClassificationEvaluator(labelCol=\"label\", predictionCol=\"prediction\", \n",
    "                                                  metricName=\"accuracy\")"
   ]
  },
  {
   "cell_type": "code",
   "execution_count": 17,
   "metadata": {},
   "outputs": [],
   "source": [
    "dtc_acc = acc_evaluator.evaluate(dtc_predictions)\n",
    "rfc_acc = acc_evaluator.evaluate(rfc_predictions)\n",
    "lgr_acc = acc_evaluator.evaluate(lgr_predictions)"
   ]
  },
  {
   "cell_type": "code",
   "execution_count": 18,
   "metadata": {},
   "outputs": [
    {
     "name": "stdout",
     "output_type": "stream",
     "text": [
      "Here are the results!\n",
      "--------------------------------------------------------------------------------\n",
      "A single decision tree had an accuracy of: 86.36%\n",
      "--------------------------------------------------------------------------------\n",
      "A random forest ensemble had an accuracy of: 93.18%\n",
      "--------------------------------------------------------------------------------\n",
      "The logistic regression classifier had an accuracy of: 97.73%\n",
      "--------------------------------------------------------------------------------\n"
     ]
    }
   ],
   "source": [
    "print(\"Here are the results!\")\n",
    "print('-'*80)\n",
    "print('A single decision tree had an accuracy of: {0:2.2f}%'.format(dtc_acc*100))\n",
    "print('-'*80)\n",
    "print('A random forest ensemble had an accuracy of: {0:2.2f}%'.format(rfc_acc*100))\n",
    "print('-'*80)\n",
    "print('The logistic regression classifier had an accuracy of: {0:2.2f}%'.format(lgr_acc*100))\n",
    "print('-'*80)"
   ]
  },
  {
   "cell_type": "code",
   "execution_count": 19,
   "metadata": {},
   "outputs": [
    {
     "data": {
      "text/plain": [
       "array([[<matplotlib.axes._subplots.AxesSubplot object at 0x7f6a60d77160>,\n",
       "        <matplotlib.axes._subplots.AxesSubplot object at 0x7f6a5ed1a550>],\n",
       "       [<matplotlib.axes._subplots.AxesSubplot object at 0x7f6a60a042e8>,\n",
       "        <matplotlib.axes._subplots.AxesSubplot object at 0x7f6a603196a0>]], dtype=object)"
      ]
     },
     "execution_count": 19,
     "metadata": {},
     "output_type": "execute_result"
    },
    {
     "data": {
      "image/png": "[encoded data removed]",
      "text/plain": [
       "<matplotlib.figure.Figure at 0x7f6a60d7f9e8>"
      ]
     },
     "metadata": {},
     "output_type": "display_data"
    }
   ],
   "source": [
    "df_iris.toPandas().hist()"
   ]
  },
  {
   "cell_type": "code",
   "execution_count": 20,
   "metadata": {},
   "outputs": [],
   "source": [
    "# Function to plot decision regions\n",
    "def plot_decision_regions(x1,x2,y):\n",
    "    x1_min, x1_max = x1.min() - 1, x1.max() + 1\n",
    "    x2_min, x2_max = x2.min() - 1, x2.max() + 1\n",
    "    x1mesh, x2mesh = np.meshgrid(np.arange(x1_min, x1_max, 0.005),\n",
    "                                 np.arange(x2_min, x2_max, 0.005))            \n",
    "    ymesh = scipy.interpolate.griddata((x1,x2),y,(x1mesh,x2mesh),method='nearest')\n",
    "    plt.contourf(x1mesh,x2mesh,ymesh)\n",
    "    plt.xlim([x1mesh.min(),x1mesh.max()])\n",
    "    plt.ylim([x2mesh.min(),x2mesh.max()])"
   ]
  },
  {
   "cell_type": "code",
   "execution_count": 41,
   "metadata": {},
   "outputs": [
    {
     "data": {
      "image/png": "[encoded data removed]",
      "text/plain": [
       "<matplotlib.figure.Figure at 0x7f6a594b10f0>"
      ]
     },
     "metadata": {},
     "output_type": "display_data"
    }
   ],
   "source": [
    "plt.figure(figsize=(5,3))   \n",
    "plt.scatter(df.toPandas()['petal_length'],df.toPandas()['petal_width'],\n",
    "            c=df.toPandas()['label'],edgecolor='black',s=25)\n",
    "plt.xlabel('Petal length')\n",
    "plt.ylabel('Petal width')\n",
    "plt.title('Full dataset')\n",
    "plt.show()"
   ]
  },
  {
   "cell_type": "code",
   "execution_count": 49,
   "metadata": {},
   "outputs": [
    {
     "data": {
      "image/png": "[encoded data removed]",
      "text/plain": [
       "<matplotlib.figure.Figure at 0x7f6a5953c3c8>"
      ]
     },
     "metadata": {},
     "output_type": "display_data"
    }
   ],
   "source": [
    "plt.figure(figsize=(5,3))   \n",
    "plt.scatter(train_data.toPandas()['petal_length'],train_data.toPandas()['petal_width'],\n",
    "            c=train_data.toPandas()['label'],edgecolor='black',s=25)\n",
    "plt.xlabel('Petal length')\n",
    "plt.ylabel('Petal width')\n",
    "plt.title('Data points in the training set')\n",
    "plt.show()"
   ]
  },
  {
   "cell_type": "code",
   "execution_count": 48,
   "metadata": {},
   "outputs": [
    {
     "data": {
      "image/png": "[encoded data removed]",
      "text/plain": [
       "<matplotlib.figure.Figure at 0x7f6a5edb13c8>"
      ]
     },
     "metadata": {},
     "output_type": "display_data"
    }
   ],
   "source": [
    "plt.figure(figsize=(5,3))   \n",
    "plt.scatter(test_data.toPandas()['petal_length'],test_data.toPandas()['petal_width'],\n",
    "            c=test_data.toPandas()['label'],edgecolor='black',s=25)\n",
    "plt.xlabel('Petal length')\n",
    "plt.ylabel('Petal width')\n",
    "plt.title('Data points in the test set')\n",
    "plt.show()"
   ]
  },
  {
   "cell_type": "code",
   "execution_count": 51,
   "metadata": {},
   "outputs": [
    {
     "data": {
      "image/png": "[encoded data removed]",
      "text/plain": [
       "<matplotlib.figure.Figure at 0x7f6a594c6208>"
      ]
     },
     "metadata": {},
     "output_type": "display_data"
    }
   ],
   "source": [
    "plt.figure(figsize=(5,3))   \n",
    "plt.scatter(lgr_predictions.toPandas()['petal_length'],lgr_predictions.toPandas()['petal_width'],\n",
    "            c=lgr_predictions.toPandas()['prediction'],edgecolor='black',s=25)\n",
    "plt.xlabel('Petal length')\n",
    "plt.ylabel('Petal width')\n",
    "plt.title('Predicted values for points in the test set')\n",
    "plt.show()"
   ]
  },
  {
   "cell_type": "code",
   "execution_count": null,
   "metadata": {
    "collapsed": true
   },
   "outputs": [],
   "source": []
  }
 ],
 "metadata": {
  "kernelspec": {
   "display_name": "Python 3.5 (Experimental) with Spark 2.1",
   "language": "python",
   "name": "python3-spark21"
  },
  "language_info": {
   "codemirror_mode": {
    "name": "ipython",
    "version": 3
   },
   "file_extension": ".py",
   "mimetype": "text/x-python",
   "name": "python",
   "nbconvert_exporter": "python",
   "pygments_lexer": "ipython3",
   "version": "3.5.2"
  }
 },
 "nbformat": 4,
 "nbformat_minor": 1
}
